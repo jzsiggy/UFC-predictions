{
 "cells": [
  {
   "cell_type": "markdown",
   "metadata": {},
   "source": [
    "# &nbsp;&nbsp;&nbsp;&nbsp;&nbsp;&nbsp;&nbsp;&nbsp;&nbsp;&nbsp;&nbsp;&nbsp;&nbsp;&nbsp;&nbsp;&nbsp;&nbsp;&nbsp;&nbsp;&nbsp;&nbsp;&nbsp;&nbsp;&nbsp;&nbsp;&nbsp;&nbsp;&nbsp;&nbsp;&nbsp;&nbsp;&nbsp;&nbsp; &nbsp;                        Projeto 3 - Ciência dos Dados\n",
    "___\n",
    "&nbsp;&nbsp;&nbsp;&nbsp;&nbsp;&nbsp;&nbsp;&nbsp;&nbsp;&nbsp;&nbsp;&nbsp;&nbsp;&nbsp;&nbsp;&nbsp;&nbsp;&nbsp;&nbsp;&nbsp;&nbsp;&nbsp;&nbsp;&nbsp;&nbsp;&nbsp;&nbsp;&nbsp;&nbsp;&nbsp;&nbsp;&nbsp;&nbsp;&nbsp;&nbsp;&nbsp;&nbsp;&nbsp;&nbsp;&nbsp;&nbsp;&nbsp;&nbsp;&nbsp;&nbsp; &nbsp;&nbsp;&nbsp;&nbsp;&nbsp;&nbsp;&nbsp;&nbsp; &nbsp;&nbsp;&nbsp;&nbsp; **André Nadalini, Guilherme Lotaif, João Zsigmiond e Kamila Wansa**\n",
    "\n",
    "<br>\n",
    "\n",
    "## 1. Problema: Análise de dados de lutas da UFC\n",
    "\n",
    "\n",
    "&nbsp;&nbsp;&nbsp;&nbsp;&nbsp;Este projeto tem como objetivo principal a análise de dados com grau elevado de autonomia. Para fazer a mesma, pegamos nossa base de dados através do site [kaggle](https://www.kaggle.com), que contém diferentes datasets com conteúdos variados. \n",
    "\n",
    "Por meio da análise de dados, pretendemos responder à pergunta:\n",
    "#### Dado dois jogadores e suas características, quem tem a maior chance de ganhar a luta?"
   ]
  },
  {
   "attachments": {
    "LOGO_UFC.png": {
     "image/png": "[encoded data removed]"
    }
   },
   "cell_type": "markdown",
   "metadata": {},
   "source": [
    "![LOGO_UFC.png](attachment:LOGO_UFC.png)"
   ]
  },
  {
   "cell_type": "markdown",
   "metadata": {},
   "source": [
    "___\n",
    "\n",
    "\n",
    "### 1.1. Preparação para a análise:\n",
    "\n",
    "&nbsp;&nbsp;&nbsp;&nbsp;&nbsp;Para efetuarmos o estudo, temos que abrir e corrigir possíveis problemas que podem atrapalhar nossa análise. Com isso em mente vamos primeiro arrumar as colunas categóricas."
   ]
  },
  {
   "cell_type": "markdown",
   "metadata": {},
   "source": [
    "**Importando as bibliotecas**"
   ]
  },
  {
   "cell_type": "code",
   "execution_count": 2,
   "metadata": {},
   "outputs": [],
   "source": [
    "import warnings\n",
    "import numpy as np\n",
    "import pandas as pd\n",
    "import pandas_profiling\n",
    "import seaborn as sns\n",
    "from sklearn import metrics\n",
    "from matplotlib import pyplot as plt\n",
    "\n",
    "from sklearn.naive_bayes import GaussianNB\n",
    "from sklearn.neural_network import MLPClassifier\n",
    "from sklearn.neighbors import KNeighborsClassifier\n",
    "from sklearn.ensemble import RandomForestClassifier\n",
    "from sklearn.model_selection import train_test_split\n",
    "\n",
    "\n",
    "plt.style.use('ggplot')"
   ]
  },
  {
   "cell_type": "markdown",
   "metadata": {},
   "source": [
    "**Importando as bases de dados**"
   ]
  },
  {
   "cell_type": "code",
   "execution_count": 3,
   "metadata": {},
   "outputs": [
    {
     "ename": "FileNotFoundError",
     "evalue": "[Errno 2] File b'./ufcdata/data.csv' does not exist: b'./ufcdata/data.csv'",
     "output_type": "error",
     "traceback": [
      "\u001b[1;31m---------------------------------------------------------------------------\u001b[0m",
      "\u001b[1;31mFileNotFoundError\u001b[0m                         Traceback (most recent call last)",
      "\u001b[1;32m<ipython-input-3-a2d2f2343230>\u001b[0m in \u001b[0;36m<module>\u001b[1;34m\u001b[0m\n\u001b[0;32m      1\u001b[0m \u001b[1;31m#Importando o arquivo de treinamento:\u001b[0m\u001b[1;33m\u001b[0m\u001b[1;33m\u001b[0m\u001b[1;33m\u001b[0m\u001b[0m\n\u001b[1;32m----> 2\u001b[1;33m \u001b[0mdata\u001b[0m \u001b[1;33m=\u001b[0m \u001b[0mpd\u001b[0m\u001b[1;33m.\u001b[0m\u001b[0mread_csv\u001b[0m\u001b[1;33m(\u001b[0m\u001b[1;34m\"./ufcdata/data.csv\"\u001b[0m\u001b[1;33m)\u001b[0m\u001b[1;33m\u001b[0m\u001b[1;33m\u001b[0m\u001b[0m\n\u001b[0m",
      "\u001b[1;32m~\\Anaconda3.7\\lib\\site-packages\\pandas\\io\\parsers.py\u001b[0m in \u001b[0;36mparser_f\u001b[1;34m(filepath_or_buffer, sep, delimiter, header, names, index_col, usecols, squeeze, prefix, mangle_dupe_cols, dtype, engine, converters, true_values, false_values, skipinitialspace, skiprows, skipfooter, nrows, na_values, keep_default_na, na_filter, verbose, skip_blank_lines, parse_dates, infer_datetime_format, keep_date_col, date_parser, dayfirst, iterator, chunksize, compression, thousands, decimal, lineterminator, quotechar, quoting, doublequote, escapechar, comment, encoding, dialect, tupleize_cols, error_bad_lines, warn_bad_lines, delim_whitespace, low_memory, memory_map, float_precision)\u001b[0m\n\u001b[0;32m    700\u001b[0m                     skip_blank_lines=skip_blank_lines)\n\u001b[0;32m    701\u001b[0m \u001b[1;33m\u001b[0m\u001b[0m\n\u001b[1;32m--> 702\u001b[1;33m         \u001b[1;32mreturn\u001b[0m \u001b[0m_read\u001b[0m\u001b[1;33m(\u001b[0m\u001b[0mfilepath_or_buffer\u001b[0m\u001b[1;33m,\u001b[0m \u001b[0mkwds\u001b[0m\u001b[1;33m)\u001b[0m\u001b[1;33m\u001b[0m\u001b[1;33m\u001b[0m\u001b[0m\n\u001b[0m\u001b[0;32m    703\u001b[0m \u001b[1;33m\u001b[0m\u001b[0m\n\u001b[0;32m    704\u001b[0m     \u001b[0mparser_f\u001b[0m\u001b[1;33m.\u001b[0m\u001b[0m__name__\u001b[0m \u001b[1;33m=\u001b[0m \u001b[0mname\u001b[0m\u001b[1;33m\u001b[0m\u001b[1;33m\u001b[0m\u001b[0m\n",
      "\u001b[1;32m~\\Anaconda3.7\\lib\\site-packages\\pandas\\io\\parsers.py\u001b[0m in \u001b[0;36m_read\u001b[1;34m(filepath_or_buffer, kwds)\u001b[0m\n\u001b[0;32m    427\u001b[0m \u001b[1;33m\u001b[0m\u001b[0m\n\u001b[0;32m    428\u001b[0m     \u001b[1;31m# Create the parser.\u001b[0m\u001b[1;33m\u001b[0m\u001b[1;33m\u001b[0m\u001b[1;33m\u001b[0m\u001b[0m\n\u001b[1;32m--> 429\u001b[1;33m     \u001b[0mparser\u001b[0m \u001b[1;33m=\u001b[0m \u001b[0mTextFileReader\u001b[0m\u001b[1;33m(\u001b[0m\u001b[0mfilepath_or_buffer\u001b[0m\u001b[1;33m,\u001b[0m \u001b[1;33m**\u001b[0m\u001b[0mkwds\u001b[0m\u001b[1;33m)\u001b[0m\u001b[1;33m\u001b[0m\u001b[1;33m\u001b[0m\u001b[0m\n\u001b[0m\u001b[0;32m    430\u001b[0m \u001b[1;33m\u001b[0m\u001b[0m\n\u001b[0;32m    431\u001b[0m     \u001b[1;32mif\u001b[0m \u001b[0mchunksize\u001b[0m \u001b[1;32mor\u001b[0m \u001b[0miterator\u001b[0m\u001b[1;33m:\u001b[0m\u001b[1;33m\u001b[0m\u001b[1;33m\u001b[0m\u001b[0m\n",
      "\u001b[1;32m~\\Anaconda3.7\\lib\\site-packages\\pandas\\io\\parsers.py\u001b[0m in \u001b[0;36m__init__\u001b[1;34m(self, f, engine, **kwds)\u001b[0m\n\u001b[0;32m    893\u001b[0m             \u001b[0mself\u001b[0m\u001b[1;33m.\u001b[0m\u001b[0moptions\u001b[0m\u001b[1;33m[\u001b[0m\u001b[1;34m'has_index_names'\u001b[0m\u001b[1;33m]\u001b[0m \u001b[1;33m=\u001b[0m \u001b[0mkwds\u001b[0m\u001b[1;33m[\u001b[0m\u001b[1;34m'has_index_names'\u001b[0m\u001b[1;33m]\u001b[0m\u001b[1;33m\u001b[0m\u001b[1;33m\u001b[0m\u001b[0m\n\u001b[0;32m    894\u001b[0m \u001b[1;33m\u001b[0m\u001b[0m\n\u001b[1;32m--> 895\u001b[1;33m         \u001b[0mself\u001b[0m\u001b[1;33m.\u001b[0m\u001b[0m_make_engine\u001b[0m\u001b[1;33m(\u001b[0m\u001b[0mself\u001b[0m\u001b[1;33m.\u001b[0m\u001b[0mengine\u001b[0m\u001b[1;33m)\u001b[0m\u001b[1;33m\u001b[0m\u001b[1;33m\u001b[0m\u001b[0m\n\u001b[0m\u001b[0;32m    896\u001b[0m \u001b[1;33m\u001b[0m\u001b[0m\n\u001b[0;32m    897\u001b[0m     \u001b[1;32mdef\u001b[0m \u001b[0mclose\u001b[0m\u001b[1;33m(\u001b[0m\u001b[0mself\u001b[0m\u001b[1;33m)\u001b[0m\u001b[1;33m:\u001b[0m\u001b[1;33m\u001b[0m\u001b[1;33m\u001b[0m\u001b[0m\n",
      "\u001b[1;32m~\\Anaconda3.7\\lib\\site-packages\\pandas\\io\\parsers.py\u001b[0m in \u001b[0;36m_make_engine\u001b[1;34m(self, engine)\u001b[0m\n\u001b[0;32m   1120\u001b[0m     \u001b[1;32mdef\u001b[0m \u001b[0m_make_engine\u001b[0m\u001b[1;33m(\u001b[0m\u001b[0mself\u001b[0m\u001b[1;33m,\u001b[0m \u001b[0mengine\u001b[0m\u001b[1;33m=\u001b[0m\u001b[1;34m'c'\u001b[0m\u001b[1;33m)\u001b[0m\u001b[1;33m:\u001b[0m\u001b[1;33m\u001b[0m\u001b[1;33m\u001b[0m\u001b[0m\n\u001b[0;32m   1121\u001b[0m         \u001b[1;32mif\u001b[0m \u001b[0mengine\u001b[0m \u001b[1;33m==\u001b[0m \u001b[1;34m'c'\u001b[0m\u001b[1;33m:\u001b[0m\u001b[1;33m\u001b[0m\u001b[1;33m\u001b[0m\u001b[0m\n\u001b[1;32m-> 1122\u001b[1;33m             \u001b[0mself\u001b[0m\u001b[1;33m.\u001b[0m\u001b[0m_engine\u001b[0m \u001b[1;33m=\u001b[0m \u001b[0mCParserWrapper\u001b[0m\u001b[1;33m(\u001b[0m\u001b[0mself\u001b[0m\u001b[1;33m.\u001b[0m\u001b[0mf\u001b[0m\u001b[1;33m,\u001b[0m \u001b[1;33m**\u001b[0m\u001b[0mself\u001b[0m\u001b[1;33m.\u001b[0m\u001b[0moptions\u001b[0m\u001b[1;33m)\u001b[0m\u001b[1;33m\u001b[0m\u001b[1;33m\u001b[0m\u001b[0m\n\u001b[0m\u001b[0;32m   1123\u001b[0m         \u001b[1;32melse\u001b[0m\u001b[1;33m:\u001b[0m\u001b[1;33m\u001b[0m\u001b[1;33m\u001b[0m\u001b[0m\n\u001b[0;32m   1124\u001b[0m             \u001b[1;32mif\u001b[0m \u001b[0mengine\u001b[0m \u001b[1;33m==\u001b[0m \u001b[1;34m'python'\u001b[0m\u001b[1;33m:\u001b[0m\u001b[1;33m\u001b[0m\u001b[1;33m\u001b[0m\u001b[0m\n",
      "\u001b[1;32m~\\Anaconda3.7\\lib\\site-packages\\pandas\\io\\parsers.py\u001b[0m in \u001b[0;36m__init__\u001b[1;34m(self, src, **kwds)\u001b[0m\n\u001b[0;32m   1851\u001b[0m         \u001b[0mkwds\u001b[0m\u001b[1;33m[\u001b[0m\u001b[1;34m'usecols'\u001b[0m\u001b[1;33m]\u001b[0m \u001b[1;33m=\u001b[0m \u001b[0mself\u001b[0m\u001b[1;33m.\u001b[0m\u001b[0musecols\u001b[0m\u001b[1;33m\u001b[0m\u001b[1;33m\u001b[0m\u001b[0m\n\u001b[0;32m   1852\u001b[0m \u001b[1;33m\u001b[0m\u001b[0m\n\u001b[1;32m-> 1853\u001b[1;33m         \u001b[0mself\u001b[0m\u001b[1;33m.\u001b[0m\u001b[0m_reader\u001b[0m \u001b[1;33m=\u001b[0m \u001b[0mparsers\u001b[0m\u001b[1;33m.\u001b[0m\u001b[0mTextReader\u001b[0m\u001b[1;33m(\u001b[0m\u001b[0msrc\u001b[0m\u001b[1;33m,\u001b[0m \u001b[1;33m**\u001b[0m\u001b[0mkwds\u001b[0m\u001b[1;33m)\u001b[0m\u001b[1;33m\u001b[0m\u001b[1;33m\u001b[0m\u001b[0m\n\u001b[0m\u001b[0;32m   1854\u001b[0m         \u001b[0mself\u001b[0m\u001b[1;33m.\u001b[0m\u001b[0munnamed_cols\u001b[0m \u001b[1;33m=\u001b[0m \u001b[0mself\u001b[0m\u001b[1;33m.\u001b[0m\u001b[0m_reader\u001b[0m\u001b[1;33m.\u001b[0m\u001b[0munnamed_cols\u001b[0m\u001b[1;33m\u001b[0m\u001b[1;33m\u001b[0m\u001b[0m\n\u001b[0;32m   1855\u001b[0m \u001b[1;33m\u001b[0m\u001b[0m\n",
      "\u001b[1;32mpandas/_libs/parsers.pyx\u001b[0m in \u001b[0;36mpandas._libs.parsers.TextReader.__cinit__\u001b[1;34m()\u001b[0m\n",
      "\u001b[1;32mpandas/_libs/parsers.pyx\u001b[0m in \u001b[0;36mpandas._libs.parsers.TextReader._setup_parser_source\u001b[1;34m()\u001b[0m\n",
      "\u001b[1;31mFileNotFoundError\u001b[0m: [Errno 2] File b'./ufcdata/data.csv' does not exist: b'./ufcdata/data.csv'"
     ]
    }
   ],
   "source": [
    "#Importando o arquivo de treinamento:\n",
    "data = pd.read_csv(\"./ufcdata/data.csv\")"
   ]
  },
  {
   "cell_type": "code",
   "execution_count": null,
   "metadata": {},
   "outputs": [],
   "source": [
    "#Vamos ver um exemplo do nosso dataframe:\n",
    "data.head(5)"
   ]
  },
  {
   "cell_type": "markdown",
   "metadata": {},
   "source": [
    "...\n",
    "<br>\n",
    "\n",
    "Para evitar erros no codigo vamos averiguar por possíveis dados nulos, que caso existam terão que ser eliminados. "
   ]
  },
  {
   "cell_type": "code",
   "execution_count": null,
   "metadata": {},
   "outputs": [],
   "source": [
    "dados_nulos = data.isnull().sum().sum()\n",
    "print(\"O dataset possui um total de {0} valores nulos.\".format(dados_nulos))"
   ]
  },
  {
   "cell_type": "code",
   "execution_count": null,
   "metadata": {},
   "outputs": [],
   "source": [
    "#Vamos eliminar os dados nulos:\n",
    "data.dropna(inplace=True)\n",
    "data = data.truncate(0, 3500)"
   ]
  },
  {
   "cell_type": "markdown",
   "metadata": {},
   "source": [
    "...\n",
    "<br>\n",
    "\n",
    "### Corrigindo itens na tabela:<br>\n",
    "\n",
    "Para fazermos a análise e o classificador de maneira mais eficaz temos que corrigir pequenos problemas que poderão nos atrapalhar no futuro, portanto vamos criar colunas novas com parte dos dados coletados de outras colunas categóricas.\n"
   ]
  },
  {
   "cell_type": "code",
   "execution_count": null,
   "metadata": {},
   "outputs": [],
   "source": [
    "#Criando uma coluna para os países extraídos da coluna de localização:\n",
    "data['country'] = data['location'].apply(lambda x : x.split(',')[-1])\n",
    "\n",
    "#Criando uma coluna com os anos extraídos da coluna de data:\n",
    "data['year'] = data['date'].apply(lambda x : x.split('-')[0])"
   ]
  },
  {
   "cell_type": "markdown",
   "metadata": {},
   "source": [
    "<br>\n",
    "\n",
    "Agora vamos separar o lutador perdedor do vencedor."
   ]
  },
  {
   "cell_type": "code",
   "execution_count": null,
   "metadata": {},
   "outputs": [],
   "source": [
    "#Vamos Criar um dataframe para as vitorias de \"Red\" e \"Blue\":\n",
    "red_wins_data = data.loc[data.Winner == \"Red\"]\n",
    "red_lose_data = data.loc[data.Winner == \"Blue\"]"
   ]
  },
  {
   "cell_type": "markdown",
   "metadata": {},
   "source": [
    "...\n",
    "\n",
    "\n",
    "#### Vamos criar um dataframe relativo\n",
    "\n",
    "Para fazer a classificação, decidimos fazer um dataframe relativo uma vez que este analisa os dados, já que com ele, saberemos a relação entre os dois jogadores para uma mesma variável qualitativa. Com isso, a função ***get_relevant_dictionary***, cria um dicionário onde as chaves são os nomes das colunas cujos valores pertencem ao lutador \"R\", e os valores são as colunas cujos valores pertencem ao lutador \"B\". \n",
    "\n",
    "Ex.: { \"R_fighter\" : \"B_fighter\" }. \n",
    "\n",
    "Já a função ***create_relative_df*** cria um novo dataframe, no qual as colunas são as variáveis quantitativas, e as linhas são a razão entre os valores do lutador do foo <font color='red'>RED corner</font> foo pelo do lutador do foo <font color='blue'>BLUE corner</font>. "
   ]
  },
  {
   "cell_type": "code",
   "execution_count": null,
   "metadata": {},
   "outputs": [],
   "source": [
    "def get_relevant_dictionary(df):\n",
    "    dic = {}\n",
    "    colunas = df.columns.values;\n",
    "    for name in colunas:\n",
    "        if name[0] == \"R\" and name != \"Referee\":\n",
    "            oposer_name = \"B\"+name[1:]\n",
    "            dic[name] = oposer_name\n",
    "    return(dic)"
   ]
  },
  {
   "cell_type": "code",
   "execution_count": null,
   "metadata": {},
   "outputs": [],
   "source": [
    "data_preprocessed = pd.read_csv(\"./ufcdata/preprocessed_data.csv\")\n",
    "data_preprocessed[\"win\"] = 0\n",
    "data_preprocessed.loc[data_preprocessed.Winner == \"Red\", \"win\"] = 1\n",
    "\n",
    "wins = data_preprocessed[\"win\"]"
   ]
  },
  {
   "cell_type": "code",
   "execution_count": null,
   "metadata": {},
   "outputs": [],
   "source": [
    "def create_relative_df(data, relevant_categories):\n",
    "    dic = {}\n",
    "    for R_value, B_value in relevant_categories.items():\n",
    "        if type(data[R_value].iloc[1]) == np.float64:\n",
    "            dic[\"{}\".format(R_value[2:])] = (data[R_value] - data[B_value]/ data[B_value])\n",
    "    relative_df = pd.DataFrame(dic)\n",
    "    return relative_df\n",
    "\n",
    "\n",
    "relevant_categories = get_relevant_dictionary(data_preprocessed)\n",
    "relative_df = create_relative_df(data_preprocessed, relevant_categories)\n",
    "\n",
    "relative_df[\"win\"] = wins\n",
    "\n",
    "relative_df.drop(columns= [\"current_lose_streak\",\"draw\"], inplace = True)\n",
    "relative_df.head(2)"
   ]
  },
  {
   "cell_type": "code",
   "execution_count": null,
   "metadata": {},
   "outputs": [],
   "source": [
    "relative_total_rounds = np.array(relative_df['total_rounds_fought'])\n",
    "relative_total_rounds = relative_total_rounds.reshape(-1, 1)"
   ]
  },
  {
   "cell_type": "markdown",
   "metadata": {},
   "source": [
    "___\n",
    "<br>\n",
    "\n",
    "## 2. Análise Exploratória:\n",
    "\n",
    "Para que possamos definir quais colunas de características são as mais importantes para a implementação do metodo de predição, temos que analisar os dados no dataframe e discutir a importância de seus resultados.\n"
   ]
  },
  {
   "cell_type": "markdown",
   "metadata": {},
   "source": [
    "...\n",
    "<br>\n",
    "\n",
    "**Quantas disputas registradas são por títulos?**<br>\n",
    "Para sabermos a importância de cada luta, é importante saber se existem muitas lutas com disputa por títulos, ou se estas ocorrem com menor frequência."
   ]
  },
  {
   "cell_type": "code",
   "execution_count": null,
   "metadata": {},
   "outputs": [],
   "source": [
    "#Vamos descobrir a quantidade:\n",
    "bout_ = data.title_bout.value_counts()"
   ]
  },
  {
   "cell_type": "code",
   "execution_count": null,
   "metadata": {},
   "outputs": [],
   "source": [
    "# Vamos nomear as partes:\n",
    "labels = ['Não Título', 'Título']\n",
    "sizes = bout_.values\n",
    "# Vamos \"explodir\" somente um pedaço:\n",
    "explode = (0.03,0.03)\n",
    "#Fornecendo as caracteristicas do gráfico:\n",
    "fig1, ax1 = plt.subplots()\n",
    "ax1.pie(sizes, labels=labels, autopct='%1.1f%%', startangle=80,\n",
    "        pctdistance=0.85, explode = explode)\n",
    "#Criando o Círculo:\n",
    "centre_circle = plt.Circle((0,0),0.70,fc='white')\n",
    "fig = plt.gcf()\n",
    "fig.gca().add_artist(centre_circle)\n",
    "# Vamos definir o aspecto de circulo, portanto \"equal\":\n",
    "ax1.axis('equal')\n",
    "plt.title(\"Porcentagem de lutas por Título\\n\")\n",
    "plt.tight_layout()\n",
    "plt.show()"
   ]
  },
  {
   "cell_type": "markdown",
   "metadata": {},
   "source": [
    "O gráfico acima mostar a relação entre as lutas em que há disputa por títulos e as que não. Com base nele, conseguimos perceber que a maioria delas não os envolvem, o que mostra que existe uma diferença considerável de nível entre as lutas, considerando que as que envolvem um título possivelmente possuem lutadores mais reconhecidos, enquanto as outras mais variados.  "
   ]
  },
  {
   "cell_type": "markdown",
   "metadata": {},
   "source": [
    "...\n",
    "<br>\n",
    "\n",
    "**Frequência de vitórias por corner** "
   ]
  },
  {
   "cell_type": "code",
   "execution_count": null,
   "metadata": {},
   "outputs": [],
   "source": [
    "#Vamos descobrir a quantidade:\n",
    "winner_1 = data.Winner.value_counts()"
   ]
  },
  {
   "cell_type": "code",
   "execution_count": null,
   "metadata": {},
   "outputs": [],
   "source": [
    "# Vamos nomear as partes:\n",
    "labels = ['Red', 'Blue',\"Empate\"]\n",
    "sizes = winner_1.values\n",
    "# Vamos \"explodir\" somente um pedaço:\n",
    "explode = (0.03,0.03,0)\n",
    "#Fornecendo as caracteristicas do gráfico:\n",
    "fig1, ax1 = plt.subplots()\n",
    "ax1.pie(sizes, labels=labels, autopct='%1.1f%%', startangle=80,\n",
    "        pctdistance=0.50, explode = explode)\n",
    "#Criando o Círculo:\n",
    "centre_circle = plt.Circle((0,0),0.70,fc='white')\n",
    "fig = plt.gcf()\n",
    "fig.gca().add_artist(centre_circle)\n",
    "# Vamos definir o aspecto de circulo, portanto \"equal\":\n",
    "ax1.axis('equal')\n",
    "plt.title(\"Porcentagem de vitórias por time\\n\")\n",
    "plt.tight_layout()\n",
    "plt.show()"
   ]
  },
  {
   "cell_type": "markdown",
   "metadata": {},
   "source": [
    "Analisando o gráfico acima notamos que a maioria das vitórias foram do corner vermelho, assim surge uma preocupação com relação ao impacto desse dado no modelo usado para predição que pode acabar usando a cor como um fator significante."
   ]
  },
  {
   "cell_type": "markdown",
   "metadata": {},
   "source": [
    "...\n",
    "<br>\n",
    "\n",
    "**Será que existe um país no qual as lutas ocorrem mais vezes?**"
   ]
  },
  {
   "cell_type": "code",
   "execution_count": null,
   "metadata": {},
   "outputs": [],
   "source": [
    "#Vamos descobrir a quantidade:\n",
    "loc_1 = data.country.value_counts().head(15)"
   ]
  },
  {
   "cell_type": "code",
   "execution_count": null,
   "metadata": {},
   "outputs": [],
   "source": [
    "#Criando uma tabela com os dados:)\n",
    "plot = loc_1.plot(kind='bar', figsize=(7, 6), align='center')\n",
    "plt.title(\"\\nQuantidade de lutas por País\\n\")\n",
    "plt.xticks(rotation=90)\n",
    "plt.ylabel('Lutas')\n",
    "plt.xlabel('País')\n",
    "plt.show()"
   ]
  },
  {
   "cell_type": "markdown",
   "metadata": {},
   "source": [
    "A célula acima traz também uma problematização com relação ao dataset. Isso porque a grande maioria das lutas foram realizadas nos EUA, assim, lutadores do país ou de paises com características semelhantes ao mesmo poderiam ter vantagem com relação aos outros. Dessa forma, o dataset falha em apresentar um possível fator significante."
   ]
  },
  {
   "cell_type": "code",
   "execution_count": null,
   "metadata": {},
   "outputs": [],
   "source": [
    "fig = plt.figure(figsize=(19, 5))\n",
    "plt.subplot(121)\n",
    "ax0 = sns.regplot(x=red_wins_data.B_avg_SIG_STR_pct, y=red_wins_data.R_avg_SIG_STR_pct,\n",
    "                      data=data)\n",
    "plt.title(\"\\nRED WINS (socos sig)\",size=18)\n",
    "plt.ylabel('Vermelho ganha')\n",
    "plt.xlabel('Azul ganha')\n",
    "ax0.set(ylim=(0,1))\n",
    "\n",
    "plt.subplot(122)\n",
    "ax1 = sns.regplot(x=red_lose_data.B_avg_SIG_STR_pct, y=red_lose_data.R_avg_SIG_STR_pct,color=\"blue\",\n",
    "                      data=data)\n",
    "plt.title(\"\\nBLUE WINS (socos sig)\",size=18)\n",
    "plt.ylabel('')\n",
    "plt.xlabel('Azul ganha')\n",
    "ax1.set(ylim=(0,1))\n",
    "\n",
    "red_lose_data.B_avg_SIG_STR_pct.corr(red_lose_data.R_avg_SIG_STR_pct)"
   ]
  },
  {
   "cell_type": "markdown",
   "metadata": {},
   "source": [
    "Com base nos gráficos de dispersão, é possível perceber que a porcentagem dos socos significativos na carreira de cada jogador está concentrada em um mesmo intervalo, próximo de 0.5. Além disso, conclui-se que a medida é pouco relevante para a análise dos resultados finais, já que os dados estão concentrados em torno do meio do gráfico, indicando que os valores de ambos os lutadores (azul e vermelho) em uma luta são muito próximos, não podendo, assim, representar a diferença entre vencer ou perder. "
   ]
  },
  {
   "cell_type": "code",
   "execution_count": null,
   "metadata": {},
   "outputs": [],
   "source": [
    "fig = plt.figure(figsize=(19, 5))\n",
    "plt.subplot(121)\n",
    "print(\"AZUL GANHA\")\n",
    "ax2 = sns.distplot(red_lose_data.R_avg_SIG_STR_pct, bins = 100)\n",
    "ax2.set(xlim=(0,1))\n",
    "ax2.set(ylim=(0,6))\n",
    "ax2.xlabel('porcentagem de socos significativos vermelho')\n",
    "plt.subplot(122)\n",
    "ax2 = sns.distplot(red_lose_data.B_avg_SIG_STR_pct, bins = 100, color=\"b\")\n",
    "ax2.set(xlim=(0,1))\n",
    "ax2.set(ylim=(0,6))\n",
    "plt.show()\n",
    "fig = plt.figure(figsize=(19, 5))\n",
    "plt.subplot(121)\n",
    "print(\"VERMELHO GANHA\")\n",
    "ax2 = sns.distplot(red_wins_data.R_avg_SIG_STR_pct, bins = 100)\n",
    "ax2.set(xlim=(0,1))\n",
    "ax2.set(ylim=(0,6))\n",
    "plt.subplot(122)\n",
    "ax2 = sns.distplot(red_wins_data.B_avg_SIG_STR_pct, bins = 100, color=\"b\")\n",
    "ax2.set(xlim=(0,1))\n",
    "ax2.set(ylim=(0,6))\n",
    "plt.show()"
   ]
  },
  {
   "cell_type": "markdown",
   "metadata": {},
   "source": [
    "Analisando agora os histogramas dessa mesma variável, consegue-se notar que há uma variação, por mais que pequena, entre os valores de cada um, vermelho e azul, quando o azul é o vencedor e quando o vermelho ganha. "
   ]
  },
  {
   "cell_type": "code",
   "execution_count": null,
   "metadata": {},
   "outputs": [],
   "source": [
    "fig = plt.figure(figsize=(19, 5))\n",
    "plt.subplot(121)\n",
    "ax = sns.boxplot(y=relative_df.avg_GROUND_att.loc[relative_df.win== 0]);\n",
    "ax.set(ylim=(0,30))\n",
    "plt.title(\"relative ground attack (blue wins)\")\n",
    "plt.ylabel(\"\")\n",
    "\n",
    "plt.subplot(122)\n",
    "ax = sns.boxplot(y=relative_df.avg_GROUND_att.loc[relative_df.win== 1]);\n",
    "ax.set(ylim=(0,10))\n",
    "plt.title(\"relative ground attack (red wins)\")\n",
    "plt.ylabel(\"\")"
   ]
  },
  {
   "cell_type": "markdown",
   "metadata": {},
   "source": [
    "O boxplot acima mostra a quantidade de ataques no chão relativa (vermelho dividido por azul) das lutas quando o azul ganha  e quando o vermelho ganha. Analisando-os pode-se ver que, apesar de as medianas de ambos os casos estarem próximas, quando o azul ganha, o primeiro quartil está distribuído em valores mais pertos de zero, o que "
   ]
  },
  {
   "cell_type": "code",
   "execution_count": null,
   "metadata": {},
   "outputs": [],
   "source": [
    "fig = plt.figure(figsize=(19, 8))\n",
    "plt.subplot(121)\n",
    "ax = sns.boxplot(y=relative_df.current_win_streak.loc[relative_df.win == 0])\n",
    "ax.set(ylim=(-1,7))\n",
    "plt.title(\"relative streak (blue wins)\")\n",
    "plt.ylabel(\"\")\n",
    "\n",
    "plt.subplot(122)\n",
    "ax = sns.boxplot(y=relative_df.current_win_streak.loc[relative_df.win== 1])\n",
    "ax.set(ylim=(-1,7))\n",
    "plt.title(\"relative streak (red wins)\")\n",
    "plt.ylabel(\"\")"
   ]
  },
  {
   "cell_type": "code",
   "execution_count": null,
   "metadata": {},
   "outputs": [],
   "source": [
    "fig = plt.figure(figsize=(19, 8))\n",
    "plt.subplot(121)\n",
    "ax = sns.boxplot(y=relative_df.avg_GROUND_att.loc[relative_df.win == 0])\n",
    "ax.set(ylim=(-30,30))\n",
    "plt.title(\"relative avg defense pass (blue wins)\")\n",
    "plt.ylabel(\"\")\n",
    "\n",
    "plt.subplot(122)\n",
    "ax = sns.boxplot(y=relative_df.avg_GROUND_att.loc[relative_df.win== 1])\n",
    "ax.set(ylim=(-30,30))\n",
    "plt.title(\"relative avg defense pass (red wins)\")\n",
    "plt.ylabel(\"\")"
   ]
  },
  {
   "cell_type": "code",
   "execution_count": null,
   "metadata": {},
   "outputs": [],
   "source": [
    "fig = plt.figure(figsize=(19, 8))\n",
    "plt.subplot(121)\n",
    "ax = sns.boxplot(y=relative_df.avg_PASS.loc[relative_df.win == 0])\n",
    "ax.set(ylim=(-1,11))\n",
    "plt.title(\"relative avg defense pass (blue wins)\")\n",
    "plt.ylabel(\"\")\n",
    "\n",
    "plt.subplot(122)\n",
    "ax = sns.boxplot(y=relative_df.avg_PASS.loc[relative_df.win== 1])\n",
    "ax.set(ylim=(-1,11))\n",
    "plt.title(\"relative avg defense pass (red wins)\")\n",
    "plt.ylabel(\"\")"
   ]
  },
  {
   "cell_type": "code",
   "execution_count": null,
   "metadata": {},
   "outputs": [],
   "source": [
    "fig = plt.figure(figsize=(19, 8))\n",
    "plt.subplot(121)\n",
    "ax = sns.boxplot(y=relative_df.avg_PASS.loc[relative_df.win == 0])\n",
    "ax.set(ylim=(-6,2))\n",
    "plt.title(\"relative avg defense pass (blue wins)\")\n",
    "plt.ylabel(\"\")\n",
    "\n",
    "plt.subplot(122)\n",
    "ax = sns.boxplot(y=relative_df.avg_PASS.loc[relative_df.win== 1])\n",
    "ax.set(ylim=(-6,2))\n",
    "plt.title(\"relative avg defense pass (red wins)\")\n",
    "plt.ylabel(\"\")"
   ]
  },
  {
   "cell_type": "code",
   "execution_count": null,
   "metadata": {},
   "outputs": [],
   "source": [
    "fig = plt.figure(figsize=(19, 8))\n",
    "plt.subplot(121)\n",
    "ax = sns.boxplot(y=relative_df.avg_PASS.loc[relative_df.win == 0])\n",
    "ax.set(ylim=(-2,10))\n",
    "plt.title(\"relative avg defense pass (blue wins)\")\n",
    "plt.ylabel(\"\")\n",
    "\n",
    "plt.subplot(122)\n",
    "ax = sns.boxplot(y=relative_df.avg_PASS.loc[relative_df.win== 1])\n",
    "ax.set(ylim=(-2,10))\n",
    "plt.title(\"relative avg defense pass (red wins)\")\n",
    "plt.ylabel(\"\")"
   ]
  },
  {
   "cell_type": "code",
   "execution_count": null,
   "metadata": {},
   "outputs": [],
   "source": [
    "fig = plt.figure(figsize=(17, 8))\n",
    "plt.subplot(121)\n",
    "ax0 = sns.regplot(x=red_wins_data.B_avg_PASS, y=red_wins_data.R_avg_PASS,\n",
    "                      data=red_wins_data)\n",
    "plt.title(\"\\nRED vezes que furou a defesa\",size=18)\n",
    "plt.ylabel('Vermelho idade')\n",
    "plt.xlabel('Azul idade')\n",
    "ax0.set(ylim=(0,11))\n",
    "\n",
    "plt.subplot(122)\n",
    "ax1 = sns.regplot(x=red_lose_data.R_avg_PASS, y=red_lose_data.B_avg_PASS,color=\"blue\",\n",
    "                      data=red_lose_data)\n",
    "plt.title(\"\\nBLUE vezes que furou a defesa\",size=18)\n",
    "plt.ylabel('')\n",
    "plt.xlabel('Azul idade')\n",
    "ax1.set(ylim=(0,11))\n",
    "\n",
    "red_lose_data.R_avg_PASS.corr(red_lose_data.B_avg_PASS)"
   ]
  },
  {
   "cell_type": "code",
   "execution_count": null,
   "metadata": {},
   "outputs": [],
   "source": [
    "relative_df = relative_df.replace([np.inf, -np.inf], np.nan)\n",
    "relative_df.avg_SIG_STR_pct.dropna(inplace=True)\n",
    "\n",
    "fig = plt.figure(figsize=(17, 8))\n",
    "ax2 = sns.distplot(relative_df.wins.loc[data_preprocessed.Winner == \"Red\"], bins = 20);\n",
    "ax3 = sns.distplot(relative_df.wins.loc[data_preprocessed.Winner == \"Blue\"], bins = 20, color = \"b\");\n",
    "#ax2.set(xlim=(0,4))"
   ]
  },
  {
   "cell_type": "code",
   "execution_count": null,
   "metadata": {},
   "outputs": [],
   "source": [
    "fig = plt.figure(figsize=(19, 5))\n",
    "plt.subplot(121)\n",
    "ax0 = sns.regplot(x=red_wins_data.B_avg_PASS, y=red_wins_data.R_avg_PASS,\n",
    "                      data=red_wins_data)\n",
    "plt.title(\"\\nRED vezes que furou a defesa\",size=18)\n",
    "plt.ylabel('Vermelho idade')\n",
    "plt.xlabel('Azul idade')\n",
    "#ax0.set(ylim=(0,1))\n",
    "\n",
    "plt.subplot(122)\n",
    "ax1 = sns.regplot(x=red_lose_data.R_avg_PASS, y=red_lose_data.B_avg_PASS,color=\"blue\",\n",
    "                      data=red_lose_data)\n",
    "plt.title(\"\\nBLUE vezes que furou a defesa\",size=18)\n",
    "plt.ylabel('')\n",
    "plt.xlabel('Azul idade')\n",
    "#ax1.set(ylim=(0,1))\n",
    "\n",
    "red_lose_data.B_age.corr(red_lose_data.R_age)"
   ]
  },
  {
   "cell_type": "markdown",
   "metadata": {},
   "source": [
    "...\n",
    "\n",
    "\n",
    "### • Análise pelo Pandas Profiling:\n",
    "\n",
    "Esta função normalmente é usada quando queremos fazer uma análise exploratória um pouco mais completa e de maneira rapida e intuitiva. Tal método funciona de maneira que quando a função é chamada, ela cria uma análise dos dados do Dataframe através do pandas.\n",
    "\n",
    "A ferramenta requer uma intalação:"
   ]
  },
  {
   "cell_type": "markdown",
   "metadata": {},
   "source": [
    "**PIP INSTALL**<br>\n",
    "Para instalar através do PIP, use o comando:\n",
    "\n",
    "`pip install pandas-profiling`\n",
    "\n",
    "**CONDA INSTALL**<br>\n",
    "Para isntalar através do Conda, use o comando:\n",
    "\n",
    "`conda install -c anaconda pandas-profiling`\n",
    "\n",
    "<br>"
   ]
  },
  {
   "cell_type": "code",
   "execution_count": null,
   "metadata": {},
   "outputs": [],
   "source": [
    "import pandas_profiling"
   ]
  },
  {
   "cell_type": "code",
   "execution_count": null,
   "metadata": {},
   "outputs": [],
   "source": [
    "pandas_profiling.ProfileReport(data)"
   ]
  },
  {
   "cell_type": "markdown",
   "metadata": {},
   "source": [
    "___\n",
    "<br>\n",
    "\n",
    "## 3. Implementação dos metodos de predição.\n",
    "\n",
    "<br>\n",
    "Primeiro Vamos organizar o dataframe da melhor maneira para termos o melhor resultado possível."
   ]
  },
  {
   "cell_type": "code",
   "execution_count": null,
   "metadata": {},
   "outputs": [],
   "source": [
    "win = np.array(relative_df[\"win\"])\n",
    "win = win.ravel()"
   ]
  },
  {
   "cell_type": "code",
   "execution_count": null,
   "metadata": {},
   "outputs": [],
   "source": [
    "X_train, X_test, y_train, y_test = train_test_split(\n",
    "        relative_total_rounds, win, test_size=0.33, random_state=42)"
   ]
  },
  {
   "cell_type": "markdown",
   "metadata": {},
   "source": [
    "...\n",
    "<br><br>\n",
    "\n",
    "**`Classificador KNN:`**"
   ]
  },
  {
   "cell_type": "code",
   "execution_count": null,
   "metadata": {},
   "outputs": [],
   "source": [
    "knn = KNeighborsClassifier()\n",
    "knn.fit(X_train, y_train)"
   ]
  },
  {
   "cell_type": "code",
   "execution_count": null,
   "metadata": {},
   "outputs": [],
   "source": [
    "knn_y_pred = knn.predict(X_test)"
   ]
  },
  {
   "cell_type": "code",
   "execution_count": null,
   "metadata": {},
   "outputs": [],
   "source": [
    "metrics.accuracy_score(y_test, knn_y_pred)"
   ]
  },
  {
   "cell_type": "markdown",
   "metadata": {},
   "source": [
    "...\n",
    "<br><br>\n",
    "\n",
    "**`Classificador GNB:`**"
   ]
  },
  {
   "cell_type": "code",
   "execution_count": null,
   "metadata": {},
   "outputs": [],
   "source": [
    "gnb = GaussianNB()\n",
    "gnb.fit(X_train, y_train)"
   ]
  },
  {
   "cell_type": "code",
   "execution_count": null,
   "metadata": {},
   "outputs": [],
   "source": [
    "gnb_y_pred = gnb.predict(X_test)\n",
    "metrics.accuracy_score(y_test, gnb_y_pred)"
   ]
  },
  {
   "cell_type": "markdown",
   "metadata": {},
   "source": [
    "...\n",
    "<br><br>\n",
    "\n",
    "**`Classificador Random Forest:`**"
   ]
  },
  {
   "cell_type": "code",
   "execution_count": null,
   "metadata": {},
   "outputs": [],
   "source": [
    "rfst = RandomForestClassifier()\n",
    "rfst.fit(X_train, y_train);"
   ]
  },
  {
   "cell_type": "code",
   "execution_count": null,
   "metadata": {},
   "outputs": [],
   "source": [
    "rfst_y_pred = rfst.predict(X_test)\n",
    "metrics.accuracy_score(y_test, rfst_y_pred)"
   ]
  },
  {
   "cell_type": "markdown",
   "metadata": {},
   "source": [
    "...\n",
    "<br><br>\n",
    "\n",
    "**`Classificador MLP:`**"
   ]
  },
  {
   "cell_type": "code",
   "execution_count": null,
   "metadata": {},
   "outputs": [],
   "source": [
    "mlp = MLPClassifier()\n",
    "mlp.fit(X_train, y_train)\n",
    "mlp_y_pred = mlp.predict(X_test)\n",
    "metrics.accuracy_score(y_test, mlp_y_pred)"
   ]
  },
  {
   "cell_type": "markdown",
   "metadata": {},
   "source": [
    "**`Classificador XGB:`**"
   ]
  },
  {
   "cell_type": "markdown",
   "metadata": {},
   "source": [
    "Um outro classificador que obteve acurácia de 67%. Ultiliza-se um método de \"Gradient Boosting\". É o método que ultilizamos no nosso aplicativo de predição."
   ]
  },
  {
   "cell_type": "markdown",
   "metadata": {},
   "source": [
    "___\n",
    "<br>\n",
    "\n",
    "## 4. Conclusão:\n",
    "\n",
    "   O nosso dataframe não possuia diversas informações importantes para avaliar o desempenho de cada jogador, como por exemplo o incentivo financeiro, o local da luta , por exemplo se foi no local de nascimento de um dos jogadores, que pode afetar no sentimento de apoio e acolhimento por parte plateia.\n",
    "   \n",
    "   Além disso, como estamos analisando valores relativos entre dois lutadores, de forma que as características em questão são semelhantes, muitas vezes pode acontecer de serem valores bastante próximos, reduzindo assim a variabilidade, quando se tratando de apenas poucas variáveis. Por outro lado, quando analisamos muitas variáveis, que é o caso do nosso datasheet, pode ser possível perceber uma maior variação do conjunto de forma a prever com maior acurácia o resultado. \n",
    "    \n",
    "   Outro fator que pode ter afetado o resultado, é que muitas vezes há outras características dos jogadores menos concretas que podem avaliar o seu desempenho na luta e que não estão relacionadas ao físico ou algo do tipo, como por exemplo o psicológico do lutador no momento da luta, ou seu preparo prévio. \n",
    "\n",
    "Por fim, como destacado ao longo da nossa análise de dados e reforçado aqui, o nosso dataset, por mais que com diversas variáveis, possivelmente não continha outros aspectos importantes tanto para o entendimento dos resultados observados quanto para a análise dos dados, que pode ter afetado o desempenho da nossa predição, que se aproxima de 67% de acurácia. "
   ]
  },
  {
   "cell_type": "markdown",
   "metadata": {},
   "source": [
    "___\n",
    "<br>\n",
    "\n",
    "## 5. Referências Bibliográficas:"
   ]
  },
  {
   "cell_type": "markdown",
   "metadata": {},
   "source": [
    "- https://medium.com/@kvnamipara/a-better-visualisation-of-pie-charts-by-matplotlib-935b7667d77f"
   ]
  }
 ],
 "metadata": {
  "kernelspec": {
   "display_name": "Python 3",
   "language": "python",
   "name": "python3"
  },
  "language_info": {
   "codemirror_mode": {
    "name": "ipython",
    "version": 3
   },
   "file_extension": ".py",
   "mimetype": "text/x-python",
   "name": "python",
   "nbconvert_exporter": "python",
   "pygments_lexer": "ipython3",
   "version": "3.7.3"
  }
 },
 "nbformat": 4,
 "nbformat_minor": 2
}
